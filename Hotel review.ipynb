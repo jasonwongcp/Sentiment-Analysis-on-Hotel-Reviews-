{
 "cells": [
  {
   "cell_type": "markdown",
   "id": "0f21c3aa",
   "metadata": {},
   "source": [
    "Exploratory Data Analysis"
   ]
  },
  {
   "cell_type": "markdown",
   "id": "17a8a389",
   "metadata": {},
   "source": [
    "Question 1A: Shape of the dataset"
   ]
  },
  {
   "cell_type": "code",
   "execution_count": 22,
   "id": "56b22ab6",
   "metadata": {},
   "outputs": [
    {
     "name": "stdout",
     "output_type": "stream",
     "text": [
      "(515738, 17)\n"
     ]
    }
   ],
   "source": [
    "\n",
    "\n",
    "import pandas as pd\n",
    "\n",
    "# Specify the file path\n",
    "file_path = 'Hotel_Reviews.csv'\n",
    "\n",
    "# Import the CSV file into a DataFrame\n",
    "df = pd.read_csv(file_path)\n",
    "\n",
    "# Display the shape of the dataset\n",
    "print(df.shape)\n"
   ]
  },
  {
   "cell_type": "markdown",
   "id": "d42ce59c",
   "metadata": {},
   "source": [
    "Question 1B: Convert reviews into integers from 1 to 10.\n",
    "\n",
    "First, let's check the range of vaules of Reviewer_Score:"
   ]
  },
  {
   "cell_type": "code",
   "execution_count": 23,
   "id": "c972f7fd",
   "metadata": {},
   "outputs": [
    {
     "name": "stdout",
     "output_type": "stream",
     "text": [
      "The range of Reviewer_Score is from 2.5 to 10.0\n"
     ]
    }
   ],
   "source": [
    "# Find the minimum and maximum values of the Reviewer_Score column\n",
    "min_score = df['Reviewer_Score'].min()\n",
    "max_score = df['Reviewer_Score'].max()\n",
    "\n",
    "# Display the range\n",
    "print(f\"The range of Reviewer_Score is from {min_score} to {max_score}\")\n"
   ]
  },
  {
   "cell_type": "markdown",
   "id": "d64db0c3",
   "metadata": {},
   "source": [
    "Second, to convert the Reviewer_Score column in my dataset, which has a range from 2.5 to 10.0, to integers from 1 to 10, I can use a simple linear mapping function."
   ]
  },
  {
   "cell_type": "code",
   "execution_count": 24,
   "id": "45cab03d",
   "metadata": {},
   "outputs": [
    {
     "name": "stdout",
     "output_type": "stream",
     "text": [
      "                                       Hotel_Address  \\\n",
      "0   s Gravesandestraat 55 Oost 1092 AA Amsterdam ...   \n",
      "1   s Gravesandestraat 55 Oost 1092 AA Amsterdam ...   \n",
      "2   s Gravesandestraat 55 Oost 1092 AA Amsterdam ...   \n",
      "3   s Gravesandestraat 55 Oost 1092 AA Amsterdam ...   \n",
      "4   s Gravesandestraat 55 Oost 1092 AA Amsterdam ...   \n",
      "\n",
      "   Additional_Number_of_Scoring Review_Date  Average_Score   Hotel_Name  \\\n",
      "0                           194    8/3/2017            7.7  Hotel Arena   \n",
      "1                           194    8/3/2017            7.7  Hotel Arena   \n",
      "2                           194   7/31/2017            7.7  Hotel Arena   \n",
      "3                           194   7/31/2017            7.7  Hotel Arena   \n",
      "4                           194   7/24/2017            7.7  Hotel Arena   \n",
      "\n",
      "  Reviewer_Nationality                                    Negative_Review  \\\n",
      "0              Russia    I am so angry that i made this post available...   \n",
      "1             Ireland                                         No Negative   \n",
      "2           Australia    Rooms are nice but for elderly a bit difficul...   \n",
      "3      United Kingdom    My room was dirty and I was afraid to walk ba...   \n",
      "4         New Zealand    You When I booked with your company on line y...   \n",
      "\n",
      "   Review_Total_Negative_Word_Counts  Total_Number_of_Reviews  \\\n",
      "0                                397                     1403   \n",
      "1                                  0                     1403   \n",
      "2                                 42                     1403   \n",
      "3                                210                     1403   \n",
      "4                                140                     1403   \n",
      "\n",
      "                                     Positive_Review  \\\n",
      "0   Only the park outside of the hotel was beauti...   \n",
      "1   No real complaints the hotel was great great ...   \n",
      "2   Location was good and staff were ok It is cut...   \n",
      "3   Great location in nice surroundings the bar a...   \n",
      "4    Amazing location and building Romantic setting    \n",
      "\n",
      "   Review_Total_Positive_Word_Counts  \\\n",
      "0                                 11   \n",
      "1                                105   \n",
      "2                                 21   \n",
      "3                                 26   \n",
      "4                                  8   \n",
      "\n",
      "   Total_Number_of_Reviews_Reviewer_Has_Given  Reviewer_Score  \\\n",
      "0                                           7               1   \n",
      "1                                           7               7   \n",
      "2                                           9               6   \n",
      "3                                           1               2   \n",
      "4                                           3               6   \n",
      "\n",
      "                                                Tags days_since_review  \\\n",
      "0  [' Leisure trip ', ' Couple ', ' Duplex Double...            0 days   \n",
      "1  [' Leisure trip ', ' Couple ', ' Duplex Double...            0 days   \n",
      "2  [' Leisure trip ', ' Family with young childre...            3 days   \n",
      "3  [' Leisure trip ', ' Solo traveler ', ' Duplex...            3 days   \n",
      "4  [' Leisure trip ', ' Couple ', ' Suite ', ' St...           10 days   \n",
      "\n",
      "         lat       lng  \n",
      "0  52.360576  4.915968  \n",
      "1  52.360576  4.915968  \n",
      "2  52.360576  4.915968  \n",
      "3  52.360576  4.915968  \n",
      "4  52.360576  4.915968  \n"
     ]
    }
   ],
   "source": [
    "# Define the mapping function\n",
    "def map_scores(score):\n",
    "    return int((score - 2.5) / (10.0 - 2.5) * 9) + 1\n",
    "\n",
    "# Convert the Reviewer_Score column to integers\n",
    "df['Reviewer_Score'] = df['Reviewer_Score'].apply(map_scores)\n",
    "\n",
    "print(df.head())"
   ]
  },
  {
   "cell_type": "markdown",
   "id": "6bbcc61d",
   "metadata": {},
   "source": [
    "Question 1C:\n",
    "\n",
    "I expect the distribution of scores to look like a normal distribution. \n",
    "\n",
    "But to understand the actual distribution of reviews, I frist use value count the frequency of each unique value in the column. Next, I create a bar plot of the distribution."
   ]
  },
  {
   "cell_type": "code",
   "execution_count": 25,
   "id": "5d1e8342",
   "metadata": {},
   "outputs": [
    {
     "name": "stdout",
     "output_type": "stream",
     "text": [
      "9     130537\n",
      "10    115853\n",
      "7     109647\n",
      "8      47584\n",
      "6      44088\n",
      "4      30226\n",
      "5      15522\n",
      "3      11469\n",
      "1       6605\n",
      "2       4207\n",
      "Name: Reviewer_Score, dtype: int64\n"
     ]
    },
    {
     "data": {
      "image/png": "[encoded data removed]",
      "text/plain": [
       "<Figure size 640x480 with 1 Axes>"
      ]
     },
     "metadata": {},
     "output_type": "display_data"
    }
   ],
   "source": [
    "import matplotlib.pyplot as plt\n",
    "\n",
    "\n",
    "# Calculate the value counts of Reviewer_Score\n",
    "score_counts = df['Reviewer_Score'].value_counts()\n",
    "\n",
    "#Display the distribtion\n",
    "print(score_counts)\n",
    "\n",
    "# Create a bar plot of the distribution\n",
    "plt.bar(score_counts.index, score_counts.values)\n",
    "\n",
    "# Set the labels and title\n",
    "plt.xlabel('Reviewer Score')\n",
    "plt.ylabel('Frequency')\n",
    "plt.title('Distribution of Reviewer Scores')\n",
    "\n",
    "# Display the plot\n",
    "plt.show()\n",
    "\n"
   ]
  },
  {
   "cell_type": "markdown",
   "id": "6f4c8b4c",
   "metadata": {},
   "source": [
    "Question 1D: What are the potential problem with this distribution?\n",
    "\n",
    "A major problem is class imbalance. There is a discrepency in the distribution of the review scores. Scores of 9, 10, and 7 have a  higher frequency while scores of 1, 2, 3, 4, 5, 6, and 8 have lower frequency.\n",
    "\n",
    "The model may become biased towards the higher scores (9 or 10) as they are more prevalent in the dataset, resulting in lower accuracy and performance in predicting the minoriy classes."
   ]
  },
  {
   "cell_type": "markdown",
   "id": "3786dfce",
   "metadata": {},
   "source": [
    "Question 2"
   ]
  },
  {
   "cell_type": "code",
   "execution_count": 26,
   "id": "2e3557f0",
   "metadata": {},
   "outputs": [
    {
     "name": "stdout",
     "output_type": "stream",
     "text": [
      "Numeric Columns:\n",
      "Index(['Additional_Number_of_Scoring', 'Average_Score',\n",
      "       'Review_Total_Negative_Word_Counts', 'Total_Number_of_Reviews',\n",
      "       'Review_Total_Positive_Word_Counts',\n",
      "       'Total_Number_of_Reviews_Reviewer_Has_Given', 'Reviewer_Score', 'lat',\n",
      "       'lng'],\n",
      "      dtype='object')\n",
      "\n",
      "Non-Numeric Columns:\n",
      "Index(['Hotel_Address', 'Review_Date', 'Hotel_Name', 'Reviewer_Nationality',\n",
      "       'Negative_Review', 'Positive_Review', 'Tags', 'days_since_review'],\n",
      "      dtype='object')\n"
     ]
    }
   ],
   "source": [
    "# Get the data types of each column\n",
    "column_types = df.dtypes\n",
    "\n",
    "# Separate numeric and non-numeric columns\n",
    "numeric_columns = column_types[column_types != 'object'].index\n",
    "non_numeric_columns = column_types[column_types == 'object'].index\n",
    "\n",
    "# Print the numeric and non-numeric columns\n",
    "print(\"Numeric Columns:\")\n",
    "print(numeric_columns)\n",
    "print(\"\\nNon-Numeric Columns:\")\n",
    "print(non_numeric_columns)\n"
   ]
  },
  {
   "cell_type": "code",
   "execution_count": 27,
   "id": "df51aa03",
   "metadata": {},
   "outputs": [
    {
     "name": "stdout",
     "output_type": "stream",
     "text": [
      "Hotel_Address                    object\n",
      "Additional_Number_of_Scoring      int64\n",
      "Review_Date                      object\n",
      "Average_Score                   float64\n",
      "Negative_Review                  object\n",
      "                                 ...   \n",
      "days_since_review_95 days         uint8\n",
      "days_since_review_96 days         uint8\n",
      "days_since_review_97 days         uint8\n",
      "days_since_review_98 days         uint8\n",
      "days_since_review_99 days         uint8\n",
      "Length: 2464, dtype: object\n"
     ]
    }
   ],
   "source": [
    "# Encode 'Hotel_Name' column\n",
    "hotel_name_encoded = pd.get_dummies(df['Hotel_Name'], prefix='Hotel_Name')\n",
    "df = pd.concat([df, hotel_name_encoded], axis=1)\n",
    "\n",
    "# Encode 'Reviewer_Nationality' column\n",
    "reviewer_nationality_encoded = pd.get_dummies(df['Reviewer_Nationality'], prefix='Reviewer_Nationality')\n",
    "df = pd.concat([df, reviewer_nationality_encoded], axis=1)\n",
    "\n",
    "\n",
    "# Encode 'days_since_review' column\n",
    "days_since_review_encoded = pd.get_dummies(df['days_since_review'], prefix='days_since_review')\n",
    "df = pd.concat([df, days_since_review_encoded], axis=1)\n",
    "\n",
    "# Drop the original non-numeric columns\n",
    "df.drop(['Hotel_Name', 'Reviewer_Nationality', 'days_since_review'], axis=1, inplace=True)\n",
    "\n",
    "print(df.dtypes)"
   ]
  },
  {
   "cell_type": "markdown",
   "id": "278a65b9",
   "metadata": {},
   "source": [
    "Question 3A: Convert the Reviewer_Score column into a binary column in the following way. "
   ]
  },
  {
   "cell_type": "code",
   "execution_count": 28,
   "id": "bb252fe8",
   "metadata": {},
   "outputs": [
    {
     "name": "stdout",
     "output_type": "stream",
     "text": [
      "Unique Classes: [ 1  7  6  2  3 10  5  4  9  8]\n",
      "Subsample Classes: [10  5  6  9  3  7  1  8  4  2]\n"
     ]
    }
   ],
   "source": [
    "from sklearn.model_selection import train_test_split\n",
    "\n",
    "# Split the data into features (X) and target (y)\n",
    "X = df.drop('Reviewer_Score', axis=1)\n",
    "y = df['Reviewer_Score']\n",
    "\n",
    "# Perform stratified sampling to get a subsample of approximately 10% of the data\n",
    "X_train, X_subsample, y_train, y_subsample = train_test_split(X, y, test_size=0.1, stratify=y, random_state=42)\n",
    "\n",
    "# Verify that all classes are included in the subsample\n",
    "unique_classes = y.unique()\n",
    "subsample_classes = y_subsample.unique()\n",
    "\n",
    "print(\"Unique Classes:\", unique_classes)\n",
    "print(\"Subsample Classes:\", subsample_classes)\n"
   ]
  },
  {
   "cell_type": "code",
   "execution_count": 19,
   "id": "92d5ab15",
   "metadata": {},
   "outputs": [
    {
     "name": "stdout",
     "output_type": "stream",
     "text": [
      "Unique Values: [1 0]\n"
     ]
    }
   ],
   "source": [
    "# Convert Reviewer_Score column to binary\n",
    "y_subsample_binary = y_subsample.apply(lambda x: 0 if x < 9 else 1)\n",
    "\n",
    "# Print the unique values in the binary column\n",
    "unique_values = y_subsample_binary.unique()\n",
    "print(\"Unique Values:\", unique_values)\n"
   ]
  },
  {
   "cell_type": "markdown",
   "id": "1f6d010b",
   "metadata": {},
   "source": [
    "Question 3B: Convert the Reviewer_Score column into a binary column in the following way. "
   ]
  },
  {
   "cell_type": "markdown",
   "id": "e392e29f",
   "metadata": {},
   "source": [
    "In the original dataset, the Non-Numeric Columns inlcude:\n",
    "'Hotel_Address', 'Review_Date', 'Hotel_Name', 'Reviewer_Nationality', 'Negative_Review', 'Positive_Review', 'Tags', 'days_since_review'.\n",
    "\n"
   ]
  },
  {
   "cell_type": "code",
   "execution_count": 34,
   "id": "94955c0d",
   "metadata": {},
   "outputs": [
    {
     "name": "stdout",
     "output_type": "stream",
     "text": [
      "Updated Columns:\n",
      "Index(['Additional_Number_of_Scoring', 'Average_Score',\n",
      "       'Review_Total_Negative_Word_Counts', 'Total_Number_of_Reviews',\n",
      "       'Review_Total_Positive_Word_Counts',\n",
      "       'Total_Number_of_Reviews_Reviewer_Has_Given', 'lat', 'lng',\n",
      "       'Hotel_Name_11 Cadogan Gardens', 'Hotel_Name_1K Hotel',\n",
      "       ...\n",
      "       'Tags_[' With a pet ', ' Leisure trip ', ' Solo traveler ', ' Double or Twin Room ', ' Stayed 2 nights ', ' Submitted from a mobile device ']',\n",
      "       'Tags_[' With a pet ', ' Leisure trip ', ' Solo traveler ', ' King Room ', ' Stayed 1 night ']',\n",
      "       'Tags_[' With a pet ', ' Leisure trip ', ' Solo traveler ', ' Park Deluxe Twin ', ' Stayed 1 night ']',\n",
      "       'Tags_[' With a pet ', ' Leisure trip ', ' Solo traveler ', ' Single Room Lower Ground Floor ', ' Stayed 2 nights ', ' Submitted from a mobile device ']',\n",
      "       'Tags_[' With a pet ', ' Leisure trip ', ' Solo traveler ', ' Standard Queen or Twin Room Lower Ground Floor ', ' Stayed 2 nights ', ' Submitted from a mobile device ']',\n",
      "       'Tags_[' With a pet ', ' Leisure trip ', ' Solo traveler ', ' Standard Room ', ' Stayed 2 nights ', ' Submitted from a mobile device ']',\n",
      "       'Tags_[' With a pet ', ' Leisure trip ', ' Solo traveler ', ' Studio ', ' Stayed 2 nights ', ' Submitted from a mobile device ']',\n",
      "       'Tags_[' With a pet ', ' Leisure trip ', ' Solo traveler ', ' Twin Hilton Guest Room ', ' Stayed 2 nights ', ' Submitted from a mobile device ']',\n",
      "       'Tags_[' With a pet ', ' Solo traveler ', ' Superior Double Room ', ' Stayed 4 nights ', ' Submitted from a mobile device ']',\n",
      "       'Tags_[' With a pet ', ' Solo traveler ', ' Superior Queen Room ', ' Stayed 5 nights ', ' Submitted from a mobile device ']'],\n",
      "      dtype='object', length=96252)\n"
     ]
    }
   ],
   "source": [
    "import pandas as pd\n",
    "\n",
    "# Select the columns to convert to numeric\n",
    "columns_to_convert = ['Hotel_Address', 'Review_Date',  'Negative_Review', 'Positive_Review', 'Tags']\n",
    "\n",
    "# Perform one-hot encoding on selected columns\n",
    "X_subsample_encoded = pd.get_dummies(X_subsample, columns=columns_to_convert)\n",
    "\n",
    "# Drop non-numeric columns except 'Positive_Review' and 'Negative_Review'\n",
    "non_numeric_columns = X_subsample_encoded.select_dtypes(exclude=['number']).columns\n",
    "non_numeric_columns = non_numeric_columns[~non_numeric_columns.isin(['Positive_Review', 'Negative_Review'])]\n",
    "X_subsample_encoded = X_subsample_encoded.drop(non_numeric_columns, axis=1)\n",
    "\n",
    "# Print the updated columns of X_subsample_encoded\n",
    "print(\"Updated Columns:\")\n",
    "print(X_subsample_encoded.columns)\n"
   ]
  },
  {
   "cell_type": "markdown",
   "id": "3638b2b7",
   "metadata": {},
   "source": [
    "Question 3C: Split the data into train and test sets"
   ]
  },
  {
   "cell_type": "code",
   "execution_count": 35,
   "id": "1a4a22cb",
   "metadata": {},
   "outputs": [
    {
     "name": "stdout",
     "output_type": "stream",
     "text": [
      "Train set shape: (41259, 2463) (41259,)\n",
      "Test set shape: (10315, 2463) (10315,)\n"
     ]
    }
   ],
   "source": [
    "from sklearn.model_selection import train_test_split\n",
    "\n",
    "# Split the data into features (X) and target (y)\n",
    "X = X_subsample\n",
    "y = y_subsample\n",
    "\n",
    "# Split the data into train and test sets\n",
    "X_train, X_test, y_train, y_test = train_test_split(X, y, test_size=0.2, random_state=42)\n",
    "\n",
    "# Print the shapes of the train and test sets\n",
    "print(\"Train set shape:\", X_train.shape, y_train.shape)\n",
    "print(\"Test set shape:\", X_test.shape, y_test.shape)\n"
   ]
  },
  {
   "cell_type": "markdown",
   "id": "9d84588e",
   "metadata": {},
   "source": [
    "Question 3D: Vertorize the columns"
   ]
  },
  {
   "cell_type": "code",
   "execution_count": 10,
   "id": "8c5d4695",
   "metadata": {},
   "outputs": [],
   "source": [
    "X_train_numeric = X_train[['Hotel_Address', 'Additional_Number_of_Scoring', 'Review_Date',\n",
    "       'Average_Score', 'Hotel_Name', 'Reviewer_Nationality',\n",
    "       'Negative_Review', 'Review_Total_Negative_Word_Counts',\n",
    "       'Total_Number_of_Reviews', 'Positive_Review',\n",
    "       'Review_Total_Positive_Word_Counts',\n",
    "       'Total_Number_of_Reviews_Reviewer_Has_Given', 'Tags',\n",
    "       'days_since_review', 'lat', 'lng']]\n",
    "X_test_numeric = X_test[['Hotel_Address', 'Additional_Number_of_Scoring', 'Review_Date',\n",
    "       'Average_Score', 'Hotel_Name', 'Reviewer_Nationality',\n",
    "       'Negative_Review', 'Review_Total_Negative_Word_Counts',\n",
    "       'Total_Number_of_Reviews', 'Positive_Review',\n",
    "       'Review_Total_Positive_Word_Counts',\n",
    "       'Total_Number_of_Reviews_Reviewer_Has_Given', 'Tags',\n",
    "       'days_since_review', 'lat', 'lng']]\n"
   ]
  },
  {
   "cell_type": "code",
   "execution_count": 36,
   "id": "4d4cb4bb",
   "metadata": {},
   "outputs": [
    {
     "ename": "TypeError",
     "evalue": "no supported conversion for types: (dtype('O'), dtype('int64'), dtype('int64'))",
     "output_type": "error",
     "traceback": [
      "\u001b[1;31m---------------------------------------------------------------------------\u001b[0m",
      "\u001b[1;31mTypeError\u001b[0m                                 Traceback (most recent call last)",
      "Cell \u001b[1;32mIn[36], line 17\u001b[0m\n\u001b[0;32m     14\u001b[0m X_negative_test \u001b[38;5;241m=\u001b[39m vectorizer_negative\u001b[38;5;241m.\u001b[39mtransform(X_subsample[\u001b[38;5;124m'\u001b[39m\u001b[38;5;124mNegative_Review\u001b[39m\u001b[38;5;124m'\u001b[39m])\n\u001b[0;32m     16\u001b[0m \u001b[38;5;66;03m# Combine numeric data with sparse matrices\u001b[39;00m\n\u001b[1;32m---> 17\u001b[0m X_subsample_combined \u001b[38;5;241m=\u001b[39m \u001b[43mhstack\u001b[49m\u001b[43m(\u001b[49m\u001b[43m(\u001b[49m\u001b[43mX_subsample\u001b[49m\u001b[38;5;241;43m.\u001b[39;49m\u001b[43mdrop\u001b[49m\u001b[43m(\u001b[49m\u001b[43m[\u001b[49m\u001b[38;5;124;43m'\u001b[39;49m\u001b[38;5;124;43mPositive_Review\u001b[39;49m\u001b[38;5;124;43m'\u001b[39;49m\u001b[43m,\u001b[49m\u001b[43m \u001b[49m\u001b[38;5;124;43m'\u001b[39;49m\u001b[38;5;124;43mNegative_Review\u001b[39;49m\u001b[38;5;124;43m'\u001b[39;49m\u001b[43m]\u001b[49m\u001b[43m,\u001b[49m\u001b[43m \u001b[49m\u001b[43maxis\u001b[49m\u001b[38;5;241;43m=\u001b[39;49m\u001b[38;5;241;43m1\u001b[39;49m\u001b[43m)\u001b[49m\u001b[43m,\u001b[49m\u001b[43m \u001b[49m\u001b[43mX_positive_train\u001b[49m\u001b[43m,\u001b[49m\u001b[43m \u001b[49m\u001b[43mX_negative_train\u001b[49m\u001b[43m)\u001b[49m\u001b[43m)\u001b[49m\n\u001b[0;32m     18\u001b[0m X_subsample_combined \u001b[38;5;241m=\u001b[39m hstack((X_subsample\u001b[38;5;241m.\u001b[39mdrop([\u001b[38;5;124m'\u001b[39m\u001b[38;5;124mPositive_Review\u001b[39m\u001b[38;5;124m'\u001b[39m, \u001b[38;5;124m'\u001b[39m\u001b[38;5;124mNegative_Review\u001b[39m\u001b[38;5;124m'\u001b[39m], axis\u001b[38;5;241m=\u001b[39m\u001b[38;5;241m1\u001b[39m), X_positive_test, X_negative_test))\n",
      "File \u001b[1;32m~\\anaconda3\\lib\\site-packages\\scipy\\sparse\\_construct.py:535\u001b[0m, in \u001b[0;36mhstack\u001b[1;34m(blocks, format, dtype)\u001b[0m\n\u001b[0;32m    505\u001b[0m \u001b[38;5;28;01mdef\u001b[39;00m \u001b[38;5;21mhstack\u001b[39m(blocks, \u001b[38;5;28mformat\u001b[39m\u001b[38;5;241m=\u001b[39m\u001b[38;5;28;01mNone\u001b[39;00m, dtype\u001b[38;5;241m=\u001b[39m\u001b[38;5;28;01mNone\u001b[39;00m):\n\u001b[0;32m    506\u001b[0m     \u001b[38;5;124;03m\"\"\"\u001b[39;00m\n\u001b[0;32m    507\u001b[0m \u001b[38;5;124;03m    Stack sparse matrices horizontally (column wise)\u001b[39;00m\n\u001b[0;32m    508\u001b[0m \n\u001b[1;32m   (...)\u001b[0m\n\u001b[0;32m    533\u001b[0m \n\u001b[0;32m    534\u001b[0m \u001b[38;5;124;03m    \"\"\"\u001b[39;00m\n\u001b[1;32m--> 535\u001b[0m     \u001b[38;5;28;01mreturn\u001b[39;00m \u001b[43mbmat\u001b[49m\u001b[43m(\u001b[49m\u001b[43m[\u001b[49m\u001b[43mblocks\u001b[49m\u001b[43m]\u001b[49m\u001b[43m,\u001b[49m\u001b[43m \u001b[49m\u001b[38;5;28;43mformat\u001b[39;49m\u001b[38;5;241;43m=\u001b[39;49m\u001b[38;5;28;43mformat\u001b[39;49m\u001b[43m,\u001b[49m\u001b[43m \u001b[49m\u001b[43mdtype\u001b[49m\u001b[38;5;241;43m=\u001b[39;49m\u001b[43mdtype\u001b[49m\u001b[43m)\u001b[49m\n",
      "File \u001b[1;32m~\\anaconda3\\lib\\site-packages\\scipy\\sparse\\_construct.py:682\u001b[0m, in \u001b[0;36mbmat\u001b[1;34m(blocks, format, dtype)\u001b[0m\n\u001b[0;32m    680\u001b[0m \u001b[38;5;28;01mif\u001b[39;00m dtype \u001b[38;5;129;01mis\u001b[39;00m \u001b[38;5;28;01mNone\u001b[39;00m:\n\u001b[0;32m    681\u001b[0m     all_dtypes \u001b[38;5;241m=\u001b[39m [blk\u001b[38;5;241m.\u001b[39mdtype \u001b[38;5;28;01mfor\u001b[39;00m blk \u001b[38;5;129;01min\u001b[39;00m blocks[block_mask]]\n\u001b[1;32m--> 682\u001b[0m     dtype \u001b[38;5;241m=\u001b[39m \u001b[43mupcast\u001b[49m\u001b[43m(\u001b[49m\u001b[38;5;241;43m*\u001b[39;49m\u001b[43mall_dtypes\u001b[49m\u001b[43m)\u001b[49m \u001b[38;5;28;01mif\u001b[39;00m all_dtypes \u001b[38;5;28;01melse\u001b[39;00m \u001b[38;5;28;01mNone\u001b[39;00m\n\u001b[0;32m    684\u001b[0m row_offsets \u001b[38;5;241m=\u001b[39m np\u001b[38;5;241m.\u001b[39mappend(\u001b[38;5;241m0\u001b[39m, np\u001b[38;5;241m.\u001b[39mcumsum(brow_lengths))\n\u001b[0;32m    685\u001b[0m col_offsets \u001b[38;5;241m=\u001b[39m np\u001b[38;5;241m.\u001b[39mappend(\u001b[38;5;241m0\u001b[39m, np\u001b[38;5;241m.\u001b[39mcumsum(bcol_lengths))\n",
      "File \u001b[1;32m~\\anaconda3\\lib\\site-packages\\scipy\\sparse\\_sputils.py:53\u001b[0m, in \u001b[0;36mupcast\u001b[1;34m(*args)\u001b[0m\n\u001b[0;32m     50\u001b[0m         _upcast_memo[\u001b[38;5;28mhash\u001b[39m(args)] \u001b[38;5;241m=\u001b[39m t\n\u001b[0;32m     51\u001b[0m         \u001b[38;5;28;01mreturn\u001b[39;00m t\n\u001b[1;32m---> 53\u001b[0m \u001b[38;5;28;01mraise\u001b[39;00m \u001b[38;5;167;01mTypeError\u001b[39;00m(\u001b[38;5;124m'\u001b[39m\u001b[38;5;124mno supported conversion for types: \u001b[39m\u001b[38;5;132;01m%r\u001b[39;00m\u001b[38;5;124m'\u001b[39m \u001b[38;5;241m%\u001b[39m (args,))\n",
      "\u001b[1;31mTypeError\u001b[0m: no supported conversion for types: (dtype('O'), dtype('int64'), dtype('int64'))"
     ]
    }
   ],
   "source": [
    "from sklearn.feature_extraction.text import CountVectorizer\n",
    "from scipy.sparse import hstack\n",
    "\n",
    "vectorizer_positive = CountVectorizer(min_df=1)\n",
    "vectorizer_negative = CountVectorizer(min_df=1)\n",
    "X_positive_train = vectorizer_positive.fit_transform(X_subsample['Positive_Review'])\n",
    "X_negative_train = vectorizer_negative.fit_transform(X_subsample['Negative_Review'])\n",
    "\n",
    "X_positive_test = vectorizer_positive.transform(X_subsample['Positive_Review'])\n",
    "X_negative_test = vectorizer_negative.transform(X_subsample['Negative_Review'])\n",
    "\n",
    "X_subsample_combined = hstack((X_subsample.drop(['Positive_Review', 'Negative_Review'], axis=1), X_positive_train, X_negative_train))\n",
    "X_subsample_combined = hstack((X_subsample.drop(['Positive_Review', 'Negative_Review'], axis=1), X_positive_test, X_negative_test))\n"
   ]
  },
  {
   "cell_type": "markdown",
   "id": "b43bbc00",
   "metadata": {},
   "source": [
    "Question 3E: min_df parameter "
   ]
  },
  {
   "cell_type": "markdown",
   "id": "819fa056",
   "metadata": {},
   "source": [
    "The min_df parameter in the CountVectorizer controls the minimum frequency threshold for a word to be included in the vocabulary. \n",
    "\n",
    "If min_df is an integer, it represents the minimum count of occurrences for a token to be included in the vocabulary. \n",
    "If min_df is between 0 and 1, it represents the minimum percentage of occurrences for a token to be included in the vocabulary.\n"
   ]
  }
 ],
 "metadata": {
  "kernelspec": {
   "display_name": "Python 3 (ipykernel)",
   "language": "python",
   "name": "python3"
  },
  "language_info": {
   "codemirror_mode": {
    "name": "ipython",
    "version": 3
   },
   "file_extension": ".py",
   "mimetype": "text/x-python",
   "name": "python",
   "nbconvert_exporter": "python",
   "pygments_lexer": "ipython3",
   "version": "3.10.9"
  }
 },
 "nbformat": 4,
 "nbformat_minor": 5
}
