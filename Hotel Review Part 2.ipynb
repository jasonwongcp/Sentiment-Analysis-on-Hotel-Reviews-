{
 "cells": [
  {
   "cell_type": "markdown",
   "id": "a506eed7",
   "metadata": {},
   "source": [
    "Introduction\n",
    "\n",
    "This project aims to perform a sentiment analysis on the reviews behind hotel reviews by using different machine learnig models. Examples include a logistic regression model, KNN model and Decision tree model. "
   ]
  },
  {
   "cell_type": "markdown",
   "id": "2c7149bb",
   "metadata": {},
   "source": [
    "Tabel of content\n",
    "\n",
    "What is the data?\n",
    "\n",
    "-Additional_Number_of_Scoring: Scoring wihtout review.\t\n",
    "\n",
    "-Average_Score:\tAverage Score of the hotel\n",
    "\n",
    "-Review_Total_Negative_Word_Counts:Total number of words in the negative review\t\n",
    "\n",
    "-Total_Number_of_Reviews:Total number of valid reviews the hotel has\n",
    "\n",
    "-Review_Total_Positive_Word_Counts:Total number of words in the positive review\n",
    "\n",
    "-Total_Number_of_Reviews_Reviewer_Has_Given:Number of Reviews the reviewers has given in the past. \t\n",
    "\n",
    "-days_since_review:Duration between the review date and scrape date. \t\n",
    "\n",
    "-lat:Latitude of the hotel\t\n",
    "\n",
    "-lng:longtitude of the hotel\n",
    "\n",
    "-weekday_of_review: weekday of the review was made\t\n",
    "\n",
    "-month_of_review: moth of the review was made\t\n",
    "\n",
    "-year_of_review: year of the review was made\t\n",
    "\n",
    "-bed_single: Did the hotel room of the reviewer stayed in contian a single bed ?\t\n",
    "\n",
    "-bed_double:  Did the hotel room of the reviewer stayed in contian a double bed ?\t\n",
    "\n",
    "-bed_queen: Did the hotel room of the reviewer stayed in contian a queen size bed?\t\n",
    "\n",
    "-bed_king: Did the hotel room of the reviewer stayed in contian a king size bed?\t\n",
    "\n",
    "-trip_leisure: Was the trip of the reviewer for leisure?\t\n",
    "\n",
    "-trip_biz: Was the trip of the reviewer for business?\t\n",
    "\n",
    "-group_solo: Did the reviewers travel solo?\t\n",
    "\n",
    "-group_couple: Did the reviewers travel with a partner?\n",
    "\n",
    "-group_family:Did the reviewers travel with family?\n",
    "\n",
    "-Hotel_name: Name of hotel\n",
    "\n",
    "-rating: rating given to the hotel\n",
    "\n",
    "Where does it come from?\n",
    "\n",
    "-It contains reviews of customers and scoring of hotels.\n",
    "\n",
    "what type of analysis is contained in the notebook?\n",
    "1. Modeling - Logsitic Regression Model\n",
    "\n",
    "    a) Fit a logistic regression model\n",
    "\n",
    "    b) 20 words most predictive of a good review and 20 words most predictive with a bad review\n",
    "\n",
    "    c) PCA \n",
    "\n",
    "    d) one advantage and one disadvantage of dimensionality reduction    \n",
    "2. Modeling - KNN model\n",
    "\n",
    "    a) Fit a KNN model\n",
    "\n",
    "    b) Relationship between the number of observations and run-time for KNN\n",
    "\n",
    "    c) one advantage and one disadvantage of reducing the number of observations\n",
    "\n",
    "    d) Optimal K value\n",
    "\n",
    "    e) Issues in data splitting after vectorization\n",
    "    \n",
    "3. Modeling - Decision Tree Classifier\n",
    "\n",
    "    a) Fit a decision tree model\n",
    "\n",
    "    b) Optimal value for the maximum depth of the decision tree\n",
    "\n",
    "    c) Compare and contrast decision trees and KNN\n",
    "    \n",
    "\n",
    "\n",
    "4. Purpose of the validation set\n",
    "\n",
    "\n",
    "\n",
    "5. Re-run decision tree\n",
    "\n",
    "    a) Optimization of the hyperparameters\n",
    "\n",
    "    b) Confusion matrix\n",
    "\n",
    "\n",
    "\n",
    "6. Creating one new feature - ratio of no. of good review words over no. of bad review words\n",
    "\n",
    "    a) Why this new feature\n",
    "\n",
    "    b) Run decision tree with this new feature; new accuracy score\n",
    "\n",
    "\n"
   ]
  },
  {
   "cell_type": "markdown",
   "id": "f8c7fe4d",
   "metadata": {},
   "source": [
    "Question 1. Employ a linear classifier on this dataset:"
   ]
  },
  {
   "cell_type": "markdown",
   "id": "930130a8",
   "metadata": {},
   "source": [
    "a. Fit a logisitic regression model to this data with the solver set to lbfgs. What is the accuracy score on the test set?"
   ]
  },
  {
   "cell_type": "markdown",
   "id": "d2faabfc",
   "metadata": {},
   "source": [
    "Before begining the logistic regression model, we need to clean and preprocess the dataset first."
   ]
  },
  {
   "cell_type": "code",
   "execution_count": 1,
   "id": "84efc1dd",
   "metadata": {},
   "outputs": [],
   "source": [
    "#import libraries\n",
    "import numpy as np\n",
    "import pandas as pd\n",
    "import seaborn as sns\n",
    "import matplotlib.pyplot as plt"
   ]
  },
  {
   "cell_type": "code",
   "execution_count": 2,
   "id": "c6ef6b2f",
   "metadata": {},
   "outputs": [
    {
     "name": "stdout",
     "output_type": "stream",
     "text": [
      "Shape of trainset:  (12798, 2744)\n",
      "Shape of testset:  (4267, 2744)\n",
      "% of data split: 33.34114705422722\n"
     ]
    }
   ],
   "source": [
    "#import test and train data sets and check the no. of rows and columns to see if they are split for subsequenct analysis\n",
    "test_set = pd.read_csv('clean_test_dataframe.csv')\n",
    "train_set = pd.read_csv('clean_train_dataframe.csv')\n",
    "\n",
    "print('Shape of trainset: ', train_set.shape)\n",
    "print('Shape of testset: ', test_set.shape)\n",
    "print('% of data split:', test_set.shape[0]/train_set.shape[0]*100)"
   ]
  },
  {
   "cell_type": "markdown",
   "id": "c4570117",
   "metadata": {},
   "source": [
    "Now we can see that the data is split into ~ 6.66:3.33 ratio. Also, we can see that the two datasets have the same number of columns."
   ]
  },
  {
   "cell_type": "markdown",
   "id": "e2080b5d",
   "metadata": {},
   "source": [
    "Next, we have to assign depdendent varaible Y(rating), and indepdendent variable X (the remaining columns)"
   ]
  },
  {
   "cell_type": "code",
   "execution_count": 3,
   "id": "bbb7a51e",
   "metadata": {
    "scrolled": true
   },
   "outputs": [],
   "source": [
    "# Since y is the depdendent variable, we can drop Y when extracting for X columns\n",
    "X_train = train_set.drop(columns=['rating'])\n",
    "y_train = train_set['rating']\n",
    "X_test = test_set.drop(columns=['rating'])\n",
    "y_test = test_set['rating']"
   ]
  },
  {
   "cell_type": "markdown",
   "id": "359562fe",
   "metadata": {},
   "source": [
    "Even though we know that the dataset is split into testing and training datasets, we also have to know if the target column (dependent varaible) is split proportionally, preferrably each calss should be 50%. This is because we want to feed the model with equal amount of class to prevent bias.  "
   ]
  },
  {
   "cell_type": "code",
   "execution_count": 4,
   "id": "cd141c32",
   "metadata": {
    "scrolled": true
   },
   "outputs": [
    {
     "name": "stdout",
     "output_type": "stream",
     "text": [
      "Class proportions of Training set :\n",
      "1    0.576106\n",
      "0    0.423894\n",
      "Name: rating, dtype: float64\n",
      "Class proportions of Testing set :\n",
      "1    0.576049\n",
      "0    0.423951\n",
      "Name: rating, dtype: float64\n"
     ]
    }
   ],
   "source": [
    "# Proportion of classes (0 or 1) in the target column\n",
    "print('Class proportions of Training set :')\n",
    "print(y_train.value_counts(normalize=True))\n",
    "print('Class proportions of Testing set :')\n",
    "print(y_test.value_counts(normalize=True))"
   ]
  },
  {
   "cell_type": "markdown",
   "id": "d1bb8b8c",
   "metadata": {},
   "source": [
    "The results show that the two classes are split close to 50% in both training and testing datasets, suggesting the there is no bais to majority class."
   ]
  },
  {
   "cell_type": "markdown",
   "id": "d2e64d55",
   "metadata": {},
   "source": [
    "Now we are done with data preprocessing and cleaning, so we can start our logistic modeling"
   ]
  },
  {
   "cell_type": "code",
   "execution_count": 5,
   "id": "8b42ca3a",
   "metadata": {
    "scrolled": true
   },
   "outputs": [
    {
     "name": "stderr",
     "output_type": "stream",
     "text": [
      "C:\\Users\\Jason\\anaconda3\\lib\\site-packages\\sklearn\\linear_model\\_logistic.py:458: ConvergenceWarning: lbfgs failed to converge (status=1):\n",
      "STOP: TOTAL NO. of ITERATIONS REACHED LIMIT.\n",
      "\n",
      "Increase the number of iterations (max_iter) or scale the data as shown in:\n",
      "    https://scikit-learn.org/stable/modules/preprocessing.html\n",
      "Please also refer to the documentation for alternative solver options:\n",
      "    https://scikit-learn.org/stable/modules/linear_model.html#logistic-regression\n",
      "  n_iter_i = _check_optimize_result(\n"
     ]
    },
    {
     "name": "stdout",
     "output_type": "stream",
     "text": [
      "Test set accuracy: 0.7801218940459447\n",
      "Train set accuracy: 0.7696273728614952\n"
     ]
    }
   ],
   "source": [
    "#import library for modeling\n",
    "from sklearn.linear_model import LogisticRegression\n",
    "\n",
    "#start logistic modeling\n",
    "log = LogisticRegression(solver='lbfgs', multi_class='multinomial', max_iter=1000)\n",
    "\n",
    "#fit logistic modeling\n",
    "log.fit(X_train, y_train)\n",
    " \n",
    "#generate estimated output labels for the input data (X_test)\n",
    "y_pred = log.predict(X_test)\n",
    " \n",
    "print('Test set accuracy:', log.score(X_train, y_train))\n",
    "print('Train set accuracy:', log.score(X_test, y_test))\n"
   ]
  },
  {
   "cell_type": "markdown",
   "id": "d97acb9d",
   "metadata": {},
   "source": [
    "As per the warning suggested, the model does not converge. As such, data are scaled appropriately."
   ]
  },
  {
   "cell_type": "code",
   "execution_count": 6,
   "id": "df34ed1c",
   "metadata": {
    "scrolled": true
   },
   "outputs": [
    {
     "name": "stdout",
     "output_type": "stream",
     "text": [
      "Scaled train set accuracy:  0.8855289889045164\n",
      "Scaled test set accuracy:  0.7328333723927818\n"
     ]
    }
   ],
   "source": [
    "#Import libraries\n",
    "from sklearn.preprocessing import StandardScaler\n",
    "\n",
    "# Create an instance of the scaler\n",
    "scaler = StandardScaler()\n",
    "\n",
    "# Fit the scaler on the training data\n",
    "scaler.fit(X_train)\n",
    "\n",
    "# Apply the scaling transformation to the training and test data\n",
    "trainscaled = scaler.transform(X_train)\n",
    "testscaled = scaler.transform(X_test)\n",
    "\n",
    "# Create an instance of LogisticRegression with specified parameters\n",
    "log_scaled = LogisticRegression(solver='lbfgs', multi_class='multinomial', max_iter=1000)\n",
    " \n",
    "# Fit the model on the scaled training data\n",
    "log_scaled.fit(trainscaled, y_train)\n",
    "\n",
    "# Use the model to predict the labels for the scaled test data\n",
    "y_pred_scaled = log_scaled.predict(testscaled)\n",
    " \n",
    "print('Scaled train set accuracy: ', log_scaled.score(trainscaled, y_train))\n",
    "print('Scaled test set accuracy: ', log_scaled.score(testscaled, y_test))"
   ]
  },
  {
   "cell_type": "markdown",
   "id": "52a6c26a",
   "metadata": {},
   "source": [
    "The results suggest that the model is now converged and has a test score of 0.7328. The performance drops from the training set to the test set, suggesting that the model may be slightly overfittting the training set."
   ]
  },
  {
   "cell_type": "markdown",
   "id": "aac2c5c5",
   "metadata": {},
   "source": [
    "Question 1B: Top 20 and Bottom 20 features "
   ]
  },
  {
   "cell_type": "code",
   "execution_count": 8,
   "id": "28cf4f70",
   "metadata": {},
   "outputs": [],
   "source": [
    "#creates a DataFrame importance with columns from X-train and cooresponding coefficients from log_scaled\n",
    "importance = pd.DataFrame({'feature': X_train.columns, 'importance': log_scaled.coef_[0]})\n",
    "\n",
    "#sorts the importance DataFrame in descending order based on the 'importance' column.\n",
    "importance.sort_values(by='importance', ascending=False, inplace=True)\n",
    "\n",
    "# creates the positive Dataframe by filtering the 'feature' column starts with the letter 'p'. \n",
    "positive = importance[importance['feature'].str.startswith('p')]\n",
    "\n",
    "# creates the negative Dataframe by filtering the 'feature' column starts with the letter 'n'. \n",
    "negative = importance[importance['feature'].str.startswith('n')]\n",
    "\n",
    "# selects the top 20 rows from the positive DataFrame\n",
    "top_20 = positive.head(20)\n",
    "\n",
    "# selects the bottom 20 rows from the negative DataFrame\n",
    "bottom_20 = negative.tail(20)\n"
   ]
  },
  {
   "cell_type": "code",
   "execution_count": 10,
   "id": "e75b4b6d",
   "metadata": {},
   "outputs": [
    {
     "data": {
      "image/png": "[encoded data removed]",
      "text/plain": [
       "<Figure size 1200x1000 with 1 Axes>"
      ]
     },
     "metadata": {},
     "output_type": "display_data"
    },
    {
     "data": {
      "image/png": "[encoded data removed]",
      "text/plain": [
       "<Figure size 1200x1000 with 1 Axes>"
      ]
     },
     "metadata": {},
     "output_type": "display_data"
    }
   ],
   "source": [
    "# plotting the top 20 positive words most predictive of a good review\n",
    "plt.figure(figsize=(12, 10))\n",
    "sns.barplot(x='importance', y='feature', data=top_20)\n",
    "plt.title('Top 20 Positive Words')\n",
    "plt.show()\n",
    "\n",
    "# plotting the bottom 20 negative words most predictive of a bad review\n",
    "plt.figure(figsize=(12, 10))\n",
    "sns.barplot(x='importance', y='feature', data=bottom_20)\n",
    "plt.title('Bottom 20 Negative Words')\n",
    "plt.show()"
   ]
  },
  {
   "cell_type": "markdown",
   "id": "724ac734",
   "metadata": {},
   "source": [
    "The results in Top 20 positive words and Bottom 20 negative words make sense, suggesting we are able to extract and categorize them into correct groups."
   ]
  },
  {
   "cell_type": "markdown",
   "id": "9ec9e084",
   "metadata": {},
   "source": [
    "Question 1C: PCA"
   ]
  },
  {
   "cell_type": "code",
   "execution_count": 11,
   "id": "d1aee75c",
   "metadata": {},
   "outputs": [
    {
     "name": "stdout",
     "output_type": "stream",
     "text": [
      "Shape of the train set:  (12798, 2743)\n",
      "Shape of the PCA transformed train set:  (12798, 1458)\n"
     ]
    }
   ],
   "source": [
    "# Import the PCA class from scikit-learn\n",
    "from sklearn.decomposition import PCA\n",
    "\n",
    "# Create an instance of PCA to keep 90% of the variance\n",
    "PCA = PCA(n_components = 0.8)\n",
    "\n",
    "# Fit the PCA model on the scaled training data\n",
    "PCA.fit(trainscaled)\n",
    "\n",
    "# Transform the training data using the learned PCA transformation\n",
    "train_PCA = PCA.transform(trainscaled)\n",
    "\n",
    "# Transform the test data using the same PCA transformation\n",
    "test_PCA = PCA.transform(testscaled)\n",
    "\n",
    "print('Shape of the train set: ', trainscaled.shape)\n",
    "print('Shape of the PCA transformed train set: ', train_PCA.shape)"
   ]
  },
  {
   "cell_type": "markdown",
   "id": "0bebf1b8",
   "metadata": {},
   "source": [
    "The dimenionality of the data is reduced to 80% of the variance. \n",
    "\n",
    "Next, we measure  the runtime of fitting a logistic regression model using two different datasets: trainscaled and train_PCA."
   ]
  },
  {
   "cell_type": "code",
   "execution_count": 12,
   "id": "44b50469",
   "metadata": {},
   "outputs": [
    {
     "name": "stdout",
     "output_type": "stream",
     "text": [
      "The runtime of the original model is:  17.03911060001701\n",
      "The runtime of the PCA model is:  4.6099775999900885\n"
     ]
    }
   ],
   "source": [
    "import timeit\n",
    "\n",
    "# Measure the runtime of fitting the original model\n",
    "\n",
    "# First, start the timer to measure the execution time\n",
    "start = timeit.default_timer()\n",
    "\n",
    "# fits the logistic regression model on the trainscaled with the y_train.\n",
    "log.fit(trainscaled, y_train)\n",
    "\n",
    "#stops the timer\n",
    "stop = timeit.default_timer()\n",
    "\n",
    "print('The runtime of the original model is: ', stop - start)\n",
    " \n",
    "# Measure the runtime of fitting the PCA model\n",
    "start = timeit.default_timer()\n",
    "log.fit(train_PCA, y_train)\n",
    "stop = timeit.default_timer()\n",
    "print('The runtime of the PCA model is: ', stop - start)\n"
   ]
  },
  {
   "cell_type": "markdown",
   "id": "04d5d51b",
   "metadata": {},
   "source": [
    "The results suggest that the runtime decreases by 70% after reducing the dimensionality. This means that the relationship between the number of dimensions and the time it takes to fit a logistic regression model is linear."
   ]
  },
  {
   "cell_type": "markdown",
   "id": "383fe2da",
   "metadata": {},
   "source": [
    "Question 1D: List one advantage and one disadvantage of dimensionality reduction"
   ]
  },
  {
   "cell_type": "markdown",
   "id": "ec2a3b45",
   "metadata": {},
   "source": [
    "An advantage of dimensionality reduction is that it reduces the computational cost of algorithms by working with a reduced set of features.\n",
    "\n",
    "An disadvanage of dimensionality reduction is that there is a risk of losing some useful information during the reduction process. "
   ]
  },
  {
   "cell_type": "markdown",
   "id": "0eac7a98",
   "metadata": {},
   "source": [
    "Question 2A : Fit a KNN model"
   ]
  },
  {
   "cell_type": "code",
   "execution_count": 13,
   "id": "547384df",
   "metadata": {
    "scrolled": false
   },
   "outputs": [
    {
     "name": "stdout",
     "output_type": "stream",
     "text": [
      "KNN Training score:  0.751211126738553\n",
      "KNN Test score:  0.6367471291305367\n"
     ]
    }
   ],
   "source": [
    "# Import the libraries for KNN\n",
    "from sklearn.neighbors import KNeighborsClassifier\n",
    "\n",
    "# Create an instance of the KNeighborsClassifier\n",
    "knnscaled = KNeighborsClassifier()\n",
    " \n",
    "# Fit the K-nearest neighbors model on the scaled training data (trainscaled)\n",
    "knnscaled.fit(trainscaled, y_train)\n",
    "\n",
    "# Use the model to predict the labels for the scaled test data (testscaled)\n",
    "y_pred_knn_scaled = knnscaled.predict(testscaled)\n",
    " \n",
    "print('KNN Training score: ', knnscaled.score(trainscaled, y_train))\n",
    "print('KNN Test score: ', knnscaled.score(testscaled, y_test))"
   ]
  },
  {
   "cell_type": "markdown",
   "id": "34d80426",
   "metadata": {},
   "source": [
    "There is a performance drop from the training set to the test set, suggesting that the model may be slightly overfitting the training data."
   ]
  },
  {
   "cell_type": "markdown",
   "id": "54062438",
   "metadata": {},
   "source": [
    "Question 2B: relationship between the number of observations and run-time for KNN"
   ]
  },
  {
   "cell_type": "markdown",
   "id": "959496cf",
   "metadata": {},
   "source": [
    "The relationship is linear. As KNN calculates the distances between each test sample and all the training samples to determine the nearest neighbors, when there are more training samples, the algorithm needs to compare the test sample against more data points, resulting longer computation time."
   ]
  },
  {
   "cell_type": "markdown",
   "id": "3b862de8",
   "metadata": {},
   "source": [
    "Question 2C: List one advantage and one disadvantage of reducing the number of observations."
   ]
  },
  {
   "cell_type": "markdown",
   "id": "7efed010",
   "metadata": {},
   "source": [
    "An advantage of reducing th number of observations is that it reduces the computational cost of algorithms by working with a reduced set of features.\n",
    "\n",
    "An disadvanage of reducing the number of bservations is that there is a risk of losing some useful information during the reduction process. "
   ]
  },
  {
   "cell_type": "markdown",
   "id": "1cdc4e06",
   "metadata": {},
   "source": [
    "Question 2D: Optimal value of K"
   ]
  },
  {
   "cell_type": "code",
   "execution_count": 14,
   "id": "1316758d",
   "metadata": {},
   "outputs": [
    {
     "name": "stdout",
     "output_type": "stream",
     "text": [
      "The optimal value for K is:  21\n"
     ]
    }
   ],
   "source": [
    "#imports the train_test_split function from scikit-learn to split data\n",
    "from sklearn.model_selection import train_test_split\n",
    "\n",
    "#splits the training data into trainign set and validation set; 25% of the training sata\n",
    "X_train, X_val, y_train, y_val = train_test_split(X_train, y_train, test_size=0.25, random_state=1, stratify=y_train)\n",
    "\n",
    "#creates an instance of the StandardScaler class to perform scaling\n",
    "scaler = StandardScaler()\n",
    " \n",
    "#fits the scaler on the training data (X_train)\n",
    "scaler.fit(X_train)\n",
    " \n",
    "# transforms the training data (X_train) using the learned scaling parameters\n",
    "X_train_scaled = scaler.transform(X_train)\n",
    "\n",
    "#  transforms the validation data (X_val) using the same scaling parameters obtained from the training data\n",
    "X_val_scaled = scaler.transform(X_val)\n",
    "\n",
    "# empty lists to store the training and validation accuracy scores for different values of n_neighbors\n",
    "training = []\n",
    "validation = []\n",
    "\n",
    "#creates a range of odd values from 1 to 51 (exclusive) to be used as n_neighbors parameter for algorithm\n",
    "neighbors = range(1, 51, 2)\n",
    "\n",
    "# loops through the K values on scaled data\n",
    "for n_neighbors in neighbors:\n",
    "    # creates an instance of the KNeighborsClassifier class\n",
    "    knn = KNeighborsClassifier(n_neighbors=n_neighbors)\n",
    "    # fits the K-nearest neighbors model\n",
    "    knn.fit(X_train_scaled, y_train)\n",
    "    # computes the accuracy using score method of the K-model and appends it to the training list.\n",
    "    training.append(knn.score(X_train_scaled, y_train))\n",
    "    # computes the accuracy using score method of the K-model and appends it to the validation list.\n",
    "    validation.append(knn.score(X_val_scaled, y_val))\n",
    "    \n",
    "# determines the optimal number of neighbors by finding the index of the maximum validation accuracy score in the validation list \n",
    "optimal = neighbors[validation.index(max(validation))]\n",
    "print('The optimal value for K is: ', optimal)"
   ]
  },
  {
   "cell_type": "markdown",
   "id": "9ac59258",
   "metadata": {},
   "source": [
    "Question 2E: What is the issue with splitting the data into train and validation sets after performing vectorization? "
   ]
  },
  {
   "cell_type": "markdown",
   "id": "66a7f8b8",
   "metadata": {},
   "source": [
    "Performing vectorization after splitting the data into train and validation sets is essential to avoid bias and prevent data leakage. Splitting the data after vectorization ensures that our model is not unfairly advantaged by using information from the validation set during the preprocessing step. Data leakage can occur when the preprocessing, such as feature scaling or encoding, is applied to the entire dataset, including the validation or test set. This leakage can lead to overly optimistic performance estimates and inaccurate model evaluation. "
   ]
  },
  {
   "cell_type": "markdown",
   "id": "97f1e433",
   "metadata": {},
   "source": [
    "Question 3A: Fit a decision tree model to this data. What is the accuracy score on the test set?"
   ]
  },
  {
   "cell_type": "code",
   "execution_count": 15,
   "id": "d00068d4",
   "metadata": {
    "scrolled": true
   },
   "outputs": [
    {
     "name": "stdout",
     "output_type": "stream",
     "text": [
      "Test score of the Decision Tree model:  0.6915865947972815\n"
     ]
    }
   ],
   "source": [
    "# imports library\n",
    "from sklearn.tree import DecisionTreeClassifier\n",
    "\n",
    "# creates an instance of the DecisionTreeClassifier\n",
    "tree = DecisionTreeClassifier()\n",
    "\n",
    "## fits the decision tree model on the training data (X_train)\n",
    "tree.fit(X_train, y_train)\n",
    " \n",
    "# Use the model to predict the labels for the test data (X_train)\n",
    "y_pred = tree.predict(X_test)\n",
    " \n",
    "print('Test score of the Decision Tree model: ', tree.score(X_test, y_test))"
   ]
  },
  {
   "cell_type": "markdown",
   "id": "c42ce133",
   "metadata": {},
   "source": [
    "Question 3B: Use the data set (or a subsample) to find an optimal value for the maximum depth of the decision tree. You will need to split your data set into train and validation."
   ]
  },
  {
   "cell_type": "code",
   "execution_count": 16,
   "id": "721f3ee6",
   "metadata": {},
   "outputs": [
    {
     "name": "stdout",
     "output_type": "stream",
     "text": [
      "The optimal value for max_depth is:  6\n"
     ]
    }
   ],
   "source": [
    "#  initialize empty lists to store the training and validation accuracy scores for different max_depth values.\n",
    "training = []\n",
    "validation = []\n",
    " \n",
    "#creates a range of integers from 1 to 30 to be used as the max_depth parameter for the decision tree classifier. \n",
    "max_depth_length = range(1, 31)\n",
    "\n",
    "# iterates over each max_depth value:\n",
    "for max_depth in max_depth_length:\n",
    "    # creates an instance of the DecisionTreeClassifier class with the specified max_depth.\n",
    "    tree = DecisionTreeClassifier(max_depth=max_depth)\n",
    "    # fits the decision tree model\n",
    "    tree.fit(X_train, y_train)\n",
    "    \n",
    "    # calcualtes the training accuracy score using the score method of the model and appends it to the training list.\n",
    "    training.append(tree.score(X_train, y_train))\n",
    "    validation.append(tree.score(X_val, y_val)) \n",
    "\n",
    "# determines the optimal max_depth value by finding the index of the maximum validation accuracy score in the validation list\n",
    "optimal_depth = max_depth_length[validation.index(max(validation))]\n",
    "print('The optimal value for max_depth is: ', optimal_depth)"
   ]
  },
  {
   "cell_type": "markdown",
   "id": "ab4184e2",
   "metadata": {},
   "source": [
    "Question 3C: Provide two advantages of decision trees over KNN. Provide two weaknesses of decision trees (classification or regression trees)"
   ]
  },
  {
   "cell_type": "markdown",
   "id": "822a0d37",
   "metadata": {},
   "source": [
    "Two advantages of Decision Trees over KNN:\n",
    "1. Each node in the decision tree has a feautre on which the decision is based, which makes the intrepretation much easier. KNN relies on how close the data points are which is lacking intuitive explanations of decision.\n",
    "\n",
    "2. Decision trees are more efficient in handling with higher number of features than KNN which takes into account of the overall distance between data points.\n",
    "\n",
    "Two weaknesses of Decision Trees:\n",
    "1. Overfitting may occur when the dataset is small\n",
    "2. Higher sensitivity to small changes in  datasets\n"
   ]
  },
  {
   "cell_type": "markdown",
   "id": "bccc7165",
   "metadata": {},
   "source": [
    "Question 4: What is the purpose of the validation set, i.e., how is it different than the test set?"
   ]
  },
  {
   "cell_type": "markdown",
   "id": "2a756b87",
   "metadata": {},
   "source": [
    "The validation set is used iteratively during the training process for training process for refining model, tuning hyperparameters, and preventing overfitting, and is to provide an unbiased estimate of the model's performance on completely unseen dats. The test set is used once as a final evaluation after the model has been trained and tuned. \n",
    "\n"
   ]
  },
  {
   "cell_type": "markdown",
   "id": "d51a6322",
   "metadata": {},
   "source": [
    "Question 5A: Perform a 5-fold cross validation to optimize the hyperparameters of your model."
   ]
  },
  {
   "cell_type": "code",
   "execution_count": 17,
   "id": "cd08a6cb",
   "metadata": {
    "scrolled": true
   },
   "outputs": [
    {
     "data": {
      "image/png": "[encoded data removed]",
      "text/plain": [
       "<Figure size 1200x1000 with 1 Axes>"
      ]
     },
     "metadata": {},
     "output_type": "display_data"
    },
    {
     "name": "stdout",
     "output_type": "stream",
     "text": [
      "The optimal value for max_depth is:  6\n"
     ]
    }
   ],
   "source": [
    "# imports library\n",
    "from sklearn.model_selection import cross_val_score\n",
    "\n",
    "# creates a range of integers from 1 to 30 (inclusive) to be used as the max_depth parameter for the decision tree classifier.\n",
    "max_depth_length = range(1, 31)\n",
    "\n",
    "#creates an empty list to store the mean cross-validated scores for each max_depth value.\n",
    "mean_scores = []\n",
    "\n",
    "# iterates over each max_depth value:\n",
    "for max_depth in max_depth_length:\n",
    "    # creates an instance of the DecisionTreeClassifier class with the specified max_depth.\n",
    "    tree = DecisionTreeClassifier(max_depth=max_depth)\n",
    "    # performs 5-fold cross-validation\n",
    "    scores = cross_val_score(tree, X_train, y_train, cv=5)\n",
    "    # calculates the mean of the accuracy scores obtained from cross-validation and appends it to the mean_scores list.\n",
    "    mean_scores.append(scores.mean())\n",
    "    \n",
    "    \n",
    "# plotting the mean scores\n",
    "plt.figure(figsize=(12, 10))\n",
    "plt.plot(max_depth_length, mean_scores, label='mean scores')\n",
    "plt.ylabel('Mean_scores')\n",
    "plt.xlabel('Max_depth')\n",
    "plt.xticks(max_depth_length)\n",
    "plt.legend()\n",
    "plt.show()\n",
    "\n",
    "# determines the optimal max_depth value by finding the index of the maximum mean score in the mean_scores list\n",
    "optimal_depth = max_depth_length[mean_scores.index(max(mean_scores))]\n",
    "\n",
    "print('The optimal value for max_depth is: ', optimal_depth)\n",
    "\n"
   ]
  },
  {
   "cell_type": "code",
   "execution_count": 18,
   "id": "7df6971a",
   "metadata": {},
   "outputs": [
    {
     "name": "stdout",
     "output_type": "stream",
     "text": [
      "Training score:  0.7607834965617837\n",
      "Test score:  0.7422076400281228\n"
     ]
    }
   ],
   "source": [
    "# creates an instance of the DecisionTreeClassifier class with the optimal max_depth value.\n",
    "tree = DecisionTreeClassifier(max_depth=optimal_depth)\n",
    "\n",
    "#  fits the decision tree model\n",
    "tree.fit(X_train, y_train)\n",
    "\n",
    "# uses the trained decision tree model to predict the labels for the test data (X_test)\n",
    "y_pred_tree = tree.predict(X_test)\n",
    " \n",
    "print('Training score: ', tree.score(X_train, y_train))\n",
    "print('Test score: ', tree.score(X_test, y_test))"
   ]
  },
  {
   "cell_type": "markdown",
   "id": "6ee3ef33",
   "metadata": {},
   "source": [
    "There is a small performance drop from the training set to the test set, indicating a reasonably good generalization of the model."
   ]
  },
  {
   "cell_type": "markdown",
   "id": "804c8f73",
   "metadata": {},
   "source": [
    "The scores are higher are optimization with Decision Treee model using a 5-fold cross validation (An increase from 0.686899460979611 to 0.7424419967190063). This is because the optimization helps us search for the value that maximizes the model's performance on validation data. Also, it helps us generalize the unseen test data by limiting the complexity of the decision tree."
   ]
  },
  {
   "cell_type": "markdown",
   "id": "07af3404",
   "metadata": {},
   "source": [
    "Question 5B: What does your confusion matrix look like for your best model on the test set?"
   ]
  },
  {
   "cell_type": "markdown",
   "id": "20b0d216",
   "metadata": {},
   "source": [
    "The confusion matrix provides a summary of the predictions made by the model, showing the counts of true positive, true negative, false positive, and false negative predictions. "
   ]
  },
  {
   "cell_type": "code",
   "execution_count": 19,
   "id": "2d76f864",
   "metadata": {},
   "outputs": [
    {
     "name": "stdout",
     "output_type": "stream",
     "text": [
      "              precision    recall  f1-score   support\n",
      "\n",
      "           0       0.71      0.65      0.68      1809\n",
      "           1       0.76      0.81      0.78      2458\n",
      "\n",
      "    accuracy                           0.74      4267\n",
      "   macro avg       0.74      0.73      0.73      4267\n",
      "weighted avg       0.74      0.74      0.74      4267\n",
      "\n"
     ]
    }
   ],
   "source": [
    "# imports confusion_matrix and classification_report functions from library\n",
    "from sklearn.metrics import confusion_matrix\n",
    "from sklearn.metrics import classification_report\n",
    " \n",
    "#  computes the confusion matrix based on the true labels (y_test) and the predicted labels (y_pred_tree).\n",
    "matrix = confusion_matrix(y_test, y_pred_tree)\n",
    "\n",
    "print(classification_report(y_test, y_pred_tree))"
   ]
  },
  {
   "cell_type": "markdown",
   "id": "9abbff9c",
   "metadata": {},
   "source": [
    "accuracy: The accuracy of the model is 0.74, indicating that it correctly predicts 74% of the samples in the test dataset.\n",
    "\n",
    "Recall: The model has a lower recall for class 0 compared to class 1. The model correctly identifies 65% of the samples belonging to class 0 and 81% of the samples belonging to class 1.\n",
    "\n",
    "F1-score: The model has a similar balance between precision and recall for both classes, but the F1-score for class 1 is higher, indicating a better overall performance for class 1.\n",
    "\n",
    "Support: The number of samples in each class in the test dataset. In this case, there are 1,809 samples of class 0 and 2,458 samples of class 1."
   ]
  },
  {
   "cell_type": "markdown",
   "id": "1cda05b8",
   "metadata": {},
   "source": [
    "Question 6: Creating a new feature"
   ]
  },
  {
   "cell_type": "markdown",
   "id": "784b1305",
   "metadata": {},
   "source": [
    "We can create a new feature which is the ratio of positive to negative words in a review by dividing the \"Review_Total_Positive_Word_Counts\" by the \"Review_Total_Negative_Word_Counts\".\n",
    "\n",
    "It is an important feature because it indicates the sentiment by quantifying the ratio of positive to negative words. A higher ratio of positive words indicates a more positive sentiment, potentially leading to a higher rating."
   ]
  },
  {
   "cell_type": "code",
   "execution_count": 20,
   "id": "b170d8ab",
   "metadata": {},
   "outputs": [
    {
     "data": {
      "text/plain": [
       "(17065, 2744)"
      ]
     },
     "execution_count": 20,
     "metadata": {},
     "output_type": "execute_result"
    }
   ],
   "source": [
    "# combine train and test data into one dataframe\n",
    "df = pd.concat([train_set, test_set], axis=0)\n",
    "\n",
    "df.shape"
   ]
  },
  {
   "cell_type": "code",
   "execution_count": 21,
   "id": "55aefc43",
   "metadata": {},
   "outputs": [
    {
     "data": {
      "text/html": [
       "<div>\n",
       "<style scoped>\n",
       "    .dataframe tbody tr th:only-of-type {\n",
       "        vertical-align: middle;\n",
       "    }\n",
       "\n",
       "    .dataframe tbody tr th {\n",
       "        vertical-align: top;\n",
       "    }\n",
       "\n",
       "    .dataframe thead th {\n",
       "        text-align: right;\n",
       "    }\n",
       "</style>\n",
       "<table border=\"1\" class=\"dataframe\">\n",
       "  <thead>\n",
       "    <tr style=\"text-align: right;\">\n",
       "      <th></th>\n",
       "      <th>Additional_Number_of_Scoring</th>\n",
       "      <th>Average_Score</th>\n",
       "      <th>Review_Total_Negative_Word_Counts</th>\n",
       "      <th>Total_Number_of_Reviews</th>\n",
       "      <th>Review_Total_Positive_Word_Counts</th>\n",
       "      <th>Total_Number_of_Reviews_Reviewer_Has_Given</th>\n",
       "      <th>days_since_review</th>\n",
       "      <th>lat</th>\n",
       "      <th>lng</th>\n",
       "      <th>weekday_of_review</th>\n",
       "      <th>...</th>\n",
       "      <th>word_count_ratio_48.5</th>\n",
       "      <th>word_count_ratio_50.0</th>\n",
       "      <th>word_count_ratio_51.5</th>\n",
       "      <th>word_count_ratio_54.75</th>\n",
       "      <th>word_count_ratio_58.5</th>\n",
       "      <th>word_count_ratio_60.8</th>\n",
       "      <th>word_count_ratio_65.0</th>\n",
       "      <th>word_count_ratio_68.5</th>\n",
       "      <th>word_count_ratio_79.5</th>\n",
       "      <th>word_count_ratio_inf</th>\n",
       "    </tr>\n",
       "  </thead>\n",
       "  <tbody>\n",
       "    <tr>\n",
       "      <th>0</th>\n",
       "      <td>620</td>\n",
       "      <td>9.0</td>\n",
       "      <td>0</td>\n",
       "      <td>1974</td>\n",
       "      <td>164</td>\n",
       "      <td>1</td>\n",
       "      <td>562</td>\n",
       "      <td>51.506558</td>\n",
       "      <td>-0.004514</td>\n",
       "      <td>1</td>\n",
       "      <td>...</td>\n",
       "      <td>0</td>\n",
       "      <td>0</td>\n",
       "      <td>0</td>\n",
       "      <td>0</td>\n",
       "      <td>0</td>\n",
       "      <td>0</td>\n",
       "      <td>0</td>\n",
       "      <td>0</td>\n",
       "      <td>0</td>\n",
       "      <td>1</td>\n",
       "    </tr>\n",
       "    <tr>\n",
       "      <th>1</th>\n",
       "      <td>1258</td>\n",
       "      <td>9.4</td>\n",
       "      <td>6</td>\n",
       "      <td>4204</td>\n",
       "      <td>4</td>\n",
       "      <td>5</td>\n",
       "      <td>276</td>\n",
       "      <td>51.502435</td>\n",
       "      <td>-0.000250</td>\n",
       "      <td>0</td>\n",
       "      <td>...</td>\n",
       "      <td>0</td>\n",
       "      <td>0</td>\n",
       "      <td>0</td>\n",
       "      <td>0</td>\n",
       "      <td>0</td>\n",
       "      <td>0</td>\n",
       "      <td>0</td>\n",
       "      <td>0</td>\n",
       "      <td>0</td>\n",
       "      <td>0</td>\n",
       "    </tr>\n",
       "    <tr>\n",
       "      <th>2</th>\n",
       "      <td>995</td>\n",
       "      <td>8.1</td>\n",
       "      <td>2</td>\n",
       "      <td>3826</td>\n",
       "      <td>38</td>\n",
       "      <td>1</td>\n",
       "      <td>129</td>\n",
       "      <td>51.504348</td>\n",
       "      <td>-0.033444</td>\n",
       "      <td>0</td>\n",
       "      <td>...</td>\n",
       "      <td>0</td>\n",
       "      <td>0</td>\n",
       "      <td>0</td>\n",
       "      <td>0</td>\n",
       "      <td>0</td>\n",
       "      <td>0</td>\n",
       "      <td>0</td>\n",
       "      <td>0</td>\n",
       "      <td>0</td>\n",
       "      <td>0</td>\n",
       "    </tr>\n",
       "    <tr>\n",
       "      <th>3</th>\n",
       "      <td>853</td>\n",
       "      <td>8.4</td>\n",
       "      <td>7</td>\n",
       "      <td>2726</td>\n",
       "      <td>10</td>\n",
       "      <td>10</td>\n",
       "      <td>164</td>\n",
       "      <td>51.507377</td>\n",
       "      <td>0.038657</td>\n",
       "      <td>0</td>\n",
       "      <td>...</td>\n",
       "      <td>0</td>\n",
       "      <td>0</td>\n",
       "      <td>0</td>\n",
       "      <td>0</td>\n",
       "      <td>0</td>\n",
       "      <td>0</td>\n",
       "      <td>0</td>\n",
       "      <td>0</td>\n",
       "      <td>0</td>\n",
       "      <td>0</td>\n",
       "    </tr>\n",
       "    <tr>\n",
       "      <th>4</th>\n",
       "      <td>1243</td>\n",
       "      <td>8.1</td>\n",
       "      <td>11</td>\n",
       "      <td>6608</td>\n",
       "      <td>8</td>\n",
       "      <td>69</td>\n",
       "      <td>639</td>\n",
       "      <td>51.513556</td>\n",
       "      <td>-0.180002</td>\n",
       "      <td>1</td>\n",
       "      <td>...</td>\n",
       "      <td>0</td>\n",
       "      <td>0</td>\n",
       "      <td>0</td>\n",
       "      <td>0</td>\n",
       "      <td>0</td>\n",
       "      <td>0</td>\n",
       "      <td>0</td>\n",
       "      <td>0</td>\n",
       "      <td>0</td>\n",
       "      <td>0</td>\n",
       "    </tr>\n",
       "  </tbody>\n",
       "</table>\n",
       "<p>5 rows × 4934 columns</p>\n",
       "</div>"
      ],
      "text/plain": [
       "   Additional_Number_of_Scoring  Average_Score  \\\n",
       "0                           620            9.0   \n",
       "1                          1258            9.4   \n",
       "2                           995            8.1   \n",
       "3                           853            8.4   \n",
       "4                          1243            8.1   \n",
       "\n",
       "   Review_Total_Negative_Word_Counts  Total_Number_of_Reviews  \\\n",
       "0                                  0                     1974   \n",
       "1                                  6                     4204   \n",
       "2                                  2                     3826   \n",
       "3                                  7                     2726   \n",
       "4                                 11                     6608   \n",
       "\n",
       "   Review_Total_Positive_Word_Counts  \\\n",
       "0                                164   \n",
       "1                                  4   \n",
       "2                                 38   \n",
       "3                                 10   \n",
       "4                                  8   \n",
       "\n",
       "   Total_Number_of_Reviews_Reviewer_Has_Given  days_since_review        lat  \\\n",
       "0                                           1                562  51.506558   \n",
       "1                                           5                276  51.502435   \n",
       "2                                           1                129  51.504348   \n",
       "3                                          10                164  51.507377   \n",
       "4                                          69                639  51.513556   \n",
       "\n",
       "        lng  weekday_of_review  ...  word_count_ratio_48.5  \\\n",
       "0 -0.004514                  1  ...                      0   \n",
       "1 -0.000250                  0  ...                      0   \n",
       "2 -0.033444                  0  ...                      0   \n",
       "3  0.038657                  0  ...                      0   \n",
       "4 -0.180002                  1  ...                      0   \n",
       "\n",
       "   word_count_ratio_50.0  word_count_ratio_51.5  word_count_ratio_54.75  \\\n",
       "0                      0                      0                       0   \n",
       "1                      0                      0                       0   \n",
       "2                      0                      0                       0   \n",
       "3                      0                      0                       0   \n",
       "4                      0                      0                       0   \n",
       "\n",
       "   word_count_ratio_58.5  word_count_ratio_60.8  word_count_ratio_65.0  \\\n",
       "0                      0                      0                      0   \n",
       "1                      0                      0                      0   \n",
       "2                      0                      0                      0   \n",
       "3                      0                      0                      0   \n",
       "4                      0                      0                      0   \n",
       "\n",
       "   word_count_ratio_68.5  word_count_ratio_79.5  word_count_ratio_inf  \n",
       "0                      0                      0                     1  \n",
       "1                      0                      0                     0  \n",
       "2                      0                      0                     0  \n",
       "3                      0                      0                     0  \n",
       "4                      0                      0                     0  \n",
       "\n",
       "[5 rows x 4934 columns]"
      ]
     },
     "execution_count": 21,
     "metadata": {},
     "output_type": "execute_result"
    }
   ],
   "source": [
    "# Calculating the word count ratio\n",
    "df['word_count_ratio'] = df['Review_Total_Positive_Word_Counts'] / df['Review_Total_Negative_Word_Counts']\n",
    "\n",
    "# using get_dummies to create dummy variables for the 'word_count_ratio' feature\n",
    "df = pd.get_dummies(df, columns=['word_count_ratio'], drop_first=True)\n",
    " \n",
    "# checking results\n",
    "df.head()"
   ]
  },
  {
   "cell_type": "code",
   "execution_count": 22,
   "id": "c3dc4be5",
   "metadata": {},
   "outputs": [
    {
     "name": "stdout",
     "output_type": "stream",
     "text": [
      "X_train shape:  (13652, 4933)\n",
      "X_test shape:  (3413, 4933)\n",
      "y_train shape:  (13652,)\n",
      "y_test shape:  (3413,)\n"
     ]
    }
   ],
   "source": [
    "# separate the independent variables (features) from the target variable ('rating') \n",
    "X = df.drop('rating', axis=1)\n",
    "y = df['rating']\n",
    "\n",
    "# imports the train_test_split function from scikit-learn.\n",
    "from sklearn.model_selection import train_test_split\n",
    "\n",
    "#splits the data into training and test sets.\n",
    "X_train, X_test, y_train, y_test = train_test_split(X, y, test_size=0.2, random_state=1, stratify=y)\n",
    " \n",
    "print('X_train shape: ', X_train.shape)\n",
    "print('X_test shape: ', X_test.shape)\n",
    "print('y_train shape: ', y_train.shape)\n",
    "print('y_test shape: ', y_test.shape)"
   ]
  },
  {
   "cell_type": "code",
   "execution_count": 27,
   "id": "c623fe81",
   "metadata": {},
   "outputs": [
    {
     "data": {
      "image/png": "[encoded data removed]",
      "text/plain": [
       "<Figure size 1200x1000 with 1 Axes>"
      ]
     },
     "metadata": {},
     "output_type": "display_data"
    },
    {
     "name": "stdout",
     "output_type": "stream",
     "text": [
      "The optimal value for max_depth is:  6\n"
     ]
    }
   ],
   "source": [
    "#  import the cross_val_score function and the DecisionTreeClassifier class from the scikit-learn library.\n",
    "from sklearn.model_selection import cross_val_score\n",
    "from sklearn.tree import DecisionTreeClassifier\n",
    "\n",
    "\n",
    "# creates a range of integers from 1 to 30 (inclusive) to be used as the max_depth parameter for the decision tree classifier.\n",
    "max_depth_length = range(1, 31)\n",
    "#  creates an empty list to store the mean cross-validated scores for each max_depth value.\n",
    "mean_scores = []\n",
    " \n",
    "#iterates over each max_depth value:\n",
    "for max_depth in max_depth_length:\n",
    "    #creates an instance of the DecisionTreeClassifier class with the specified max_depth.\n",
    "    tree = DecisionTreeClassifier(max_depth=max_depth)\n",
    "    # performs 5-fold cross-validation\n",
    "    scores = cross_val_score(tree, X_train, y_train, cv=5)\n",
    "    #calculates the mean of the accuracy scores obtained from cross-validation and appends it to the mean_scores list.\n",
    "    mean_scores.append(scores.mean())\n",
    "\n",
    "    \n",
    "# plotting the mean scores\n",
    "plt.figure(figsize=(12, 10))\n",
    "plt.plot(max_depth_length, mean_scores, label='mean scores')\n",
    "plt.ylabel('Mean_scores')\n",
    "plt.xlabel('Max_Depth')\n",
    "plt.xticks(max_depth_length)\n",
    "plt.legend()\n",
    "plt.show()\n",
    "\n",
    "#determines the optimal max_depth value by finding the index of the maximum mean score in the mean_scores list \n",
    "optimal_depth = max_depth_length[mean_scores.index(max(mean_scores))]\n",
    "print('The optimal value for max_depth is: ', optimal_depth)\n",
    "\n"
   ]
  },
  {
   "cell_type": "code",
   "execution_count": 24,
   "id": "511fa81a",
   "metadata": {
    "scrolled": true
   },
   "outputs": [
    {
     "name": "stdout",
     "output_type": "stream",
     "text": [
      "Training score:  0.7665543510108409\n",
      "Test score:  0.7465572809844712\n"
     ]
    }
   ],
   "source": [
    "# creates an instance of the DecisionTreeClassifier class\n",
    "tree = DecisionTreeClassifier(max_depth=optimal_depth)\n",
    "\n",
    "# fits the decision tree model\n",
    "tree.fit(X_train, y_train)\n",
    " \n",
    "# uses the trained decision tree model to predict the labels for the test data (X_test)\n",
    "y_pred_tree_2 = tree.predict(X_test)\n",
    " \n",
    "print('Training score: ', tree.score(X_train, y_train))\n",
    "print('Test score: ', tree.score(X_test, y_test))"
   ]
  },
  {
   "cell_type": "markdown",
   "id": "e5a0391b",
   "metadata": {},
   "source": [
    "First, there is a small performance drop from the training set to the test set, indicating a reasonably good generalization of the model. Second, the test score increases from  0.7368174361378017 to 0.7546285446449497, which is a total of 2.4% increase in accuracy. "
   ]
  },
  {
   "cell_type": "code",
   "execution_count": 25,
   "id": "125763f3",
   "metadata": {},
   "outputs": [
    {
     "name": "stdout",
     "output_type": "stream",
     "text": [
      "              precision    recall  f1-score   support\n",
      "\n",
      "           0       0.70      0.69      0.70      1447\n",
      "           1       0.78      0.78      0.78      1966\n",
      "\n",
      "    accuracy                           0.75      3413\n",
      "   macro avg       0.74      0.74      0.74      3413\n",
      "weighted avg       0.75      0.75      0.75      3413\n",
      "\n"
     ]
    }
   ],
   "source": [
    "#imports the classification_report and confusion_matrix functions from the scikit-learn library.\n",
    "from sklearn.metrics import classification_report\n",
    "from sklearn.metrics import confusion_matrix\n",
    "\n",
    "#computes the confusion matrix based on the true labels (y_test) and the predicted labels (y_pred_tree_2)\n",
    "matrix = confusion_matrix(y_test, y_pred_tree_2)\n",
    " \n",
    "print(classification_report(y_test, y_pred_tree_2))"
   ]
  },
  {
   "cell_type": "markdown",
   "id": "fc9c76ce",
   "metadata": {},
   "source": [
    "The overall accuracy increases from 0.74 to 0.75 after adding the new feature.\n",
    "\n",
    "Accuracy: The accuracy of the model is 0.75, indicating that it correctly predicts 75% of the samples in the test dataset.\n",
    "\n",
    "Precision: The model's predictions of class 0 and class 1 have relatively high precision, meaning that when the model predicts a sample as class 0 or class 1, it is correct in approximately 73% and 77% of cases, respectively.\n",
    "\n",
    "Recall: The model has a lower recall for class 0 compared to class 1. The model correctly identifies 67% of the samples belonging to class 0 and 82% of the samples belonging to class 1.\n",
    "\n",
    "The F1-score: The model has a similar balance between precision and recall for both classes, but the F1-score for class 1 is higher, indicating a better overall performance for class 1."
   ]
  },
  {
   "cell_type": "markdown",
   "id": "b29d0c01",
   "metadata": {},
   "source": [
    "Conclusion:\n",
    "\n",
    "During this project, I delved into the exciting world of machine learning, aiming to construct a model capable of predicting the sentiment of hotel reviews. The journey involved various steps, starting with the creation of a basic model as a reference point. Subsequently, I put my efforts into optimizing the models and even introduced a new feature to enhance their performance. Additionally, I acquired the skills to interpret the outcomes of the models, such as examining the confusion matrix, accuracy score, precision score, and recall score. Ultimately, I accomplished the objective by building a model that boasts an accuracy score of 0.74, indicating that it accurately classifies 74% of the reviews in our test dataset.\n",
    "\n",
    "\n",
    "\n",
    "\n"
   ]
  },
  {
   "cell_type": "code",
   "execution_count": null,
   "id": "a814bc09",
   "metadata": {},
   "outputs": [],
   "source": []
  }
 ],
 "metadata": {
  "kernelspec": {
   "display_name": "Python 3 (ipykernel)",
   "language": "python",
   "name": "python3"
  },
  "language_info": {
   "codemirror_mode": {
    "name": "ipython",
    "version": 3
   },
   "file_extension": ".py",
   "mimetype": "text/x-python",
   "name": "python",
   "nbconvert_exporter": "python",
   "pygments_lexer": "ipython3",
   "version": "3.10.9"
  }
 },
 "nbformat": 4,
 "nbformat_minor": 5
}
